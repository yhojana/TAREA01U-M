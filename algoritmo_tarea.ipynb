{
  "nbformat": 4,
  "nbformat_minor": 0,
  "metadata": {
    "colab": {
      "name": "algoritmo_tarea",
      "provenance": [],
      "authorship_tag": "ABX9TyODo6WnGid7z2NIt5RnbCEq",
      "include_colab_link": true
    },
    "kernelspec": {
      "name": "python3",
      "display_name": "Python 3"
    },
    "language_info": {
      "name": "python"
    }
  },
  "cells": [
    {
      "cell_type": "markdown",
      "metadata": {
        "id": "view-in-github",
        "colab_type": "text"
      },
      "source": [
        "<a href=\"https://colab.research.google.com/github/yhojana/TAREA01U-M/blob/main/algoritmo_tarea.ipynb\" target=\"_parent\"><img src=\"https://colab.research.google.com/assets/colab-badge.svg\" alt=\"Open In Colab\"/></a>"
      ]
    },
    {
      "cell_type": "markdown",
      "source": [
        "\n",
        "\n",
        "Realice un diagrama de flujo y pseudocódigo que representen el algoritmo para obtener el área de un triángulo\n",
        "\n"
      ],
      "metadata": {
        "id": "kPdBwV4u2CbK"
      }
    },
    {
      "cell_type": "code",
      "source": [
        "#DEFINIR VARABLES\n",
        "\n",
        "base= None\n",
        "altura= None\n",
        "\n",
        "#datos de entrada \n",
        "base=float(input(\"escriba la base del triangulo:\"))\n",
        "print(\"debe escribir un numero\")\n",
        "altura=float(input(\"escriba la altura del triangulo:\"))\n",
        "print(\"debe escribir el numero:\")\n",
        "#proceso\n",
        "area = base*altura/2\n",
        "#datos de salida\n",
        "print(f\" el area del triangulo es igual a :{area}\")"
      ],
      "metadata": {
        "colab": {
          "base_uri": "https://localhost:8080/"
        },
        "id": "ZjkLxbr-2IdF",
        "outputId": "a7f3cf8a-f231-4225-868a-3442a10a1a4c"
      },
      "execution_count": 1,
      "outputs": [
        {
          "output_type": "stream",
          "name": "stdout",
          "text": [
            "escriba la base del triangulo:4\n",
            "debe escribir un numero\n",
            "escriba la altura del triangulo:3\n",
            "debe escribir el numero:\n",
            " el area del triangulo es igual a :6.0\n"
          ]
        }
      ]
    },
    {
      "cell_type": "markdown",
      "source": [
        "Una empresa que contrata personal requiere determinar la edad de las personas que solicitan trabajo, pero cuando se les realiza la entrevista sólo se les pregunta el año en que nacieron. Realice el diagrama de flujo y pseudocódigo que represente el algoritmo para solucionar este problema."
      ],
      "metadata": {
        "id": "4jew32tf2WzG"
      }
    },
    {
      "cell_type": "code",
      "source": [
        "#DEFINIR VARABLES\n",
        "año_de_nacimiento= None\n",
        "año_actual= None\n",
        "\n",
        "\n",
        "#datos de entrada \n",
        "año_de_nacimiento=int(input(\"ingrese el año de nacimiento:\"))\n",
        "print(\"debe escribir un numero\")\n",
        "\n",
        "año_actual=int(input(\"ingrese el año actual:\"))\n",
        "print(\"debe escribir el numero:\")\n",
        "#proceso\n",
        "\n",
        "edad =(año_de_nacimiento-año_actual)\n",
        "\n",
        "#datos de salida\n",
        "print(f\" la edad actual es de  :{edad}\")"
      ],
      "metadata": {
        "id": "maC3Kmim2bBk"
      },
      "execution_count": null,
      "outputs": []
    },
    {
      "cell_type": "markdown",
      "source": [
        "Un estacionamiento requiere determinar el cobro que debe aplicar a las personas que lo utilizan. Considere que el cobro es con base en las horas que lo disponen y que las fracciones de hora se toman como completas y realice un diagrama de flujo y pseudocódigo que represente el algoritmo que permita determinar el cobro."
      ],
      "metadata": {
        "id": "K-Obgtpk2eyQ"
      }
    },
    {
      "cell_type": "code",
      "source": [
        "\n",
        "#definir variables\n",
        "velocidad=float \n",
        "distancia =float\n",
        "tiempo=float\n",
        "#datos de entrada\n",
        "velocidad=int(input(\"escriba la velocidad :\"))\n",
        "distancia=int(input(\"escriba la distancia :\"))\n",
        "#Proceso\n",
        "\n",
        "tiempo= (distancia / velocidad)\n",
        "#datos de salida \n",
        "print(f\"el tiempo de manejo es :{tiempo}\")\n",
        "\n",
        "#definir\n",
        "minutos=float\n",
        "costo=float\n",
        "\n",
        "#datos de entradas \n",
        "minutos=int(input(\"ingrese la cantiodad de minutos :\"))\n",
        "costo=int(input(\"ingrse el precio por minutos :\"))\n",
        "#Proceso\n",
        "total=(minutos*costo)\n",
        "#datos de salida\n",
        "print(f\"el total es de :{total}\")"
      ],
      "metadata": {
        "id": "WJAIe_sm8bu6"
      },
      "execution_count": null,
      "outputs": []
    },
    {
      "cell_type": "markdown",
      "source": [
        ""
      ],
      "metadata": {
        "id": "J-q6VRce8c--"
      }
    },
    {
      "cell_type": "markdown",
      "source": [
        "Cuál es el volumen de un paralelepípedo de largo, ancho y altura conocidas?"
      ],
      "metadata": {
        "id": "CD56vfhXlECW"
      }
    },
    {
      "cell_type": "code",
      "source": [
        "\n",
        "#DEFINIR VARABLES\n",
        "a=float\n",
        "b=float\n",
        "c=float\n",
        "\n",
        "\n",
        "#datos de entrada\n",
        "\n",
        "a=float(input(\"ingrese el largo:\"))\n",
        "print(\"debe escribir un numero\")\n",
        "\n",
        "b=float(input(\"ingrese el ancho:\"))\n",
        "print(\"debe escribir el numero:\")\n",
        "c=float(input(\"ingrese el alto \"))\n",
        "print(\"debe escribir un numero \")\n",
        "\n",
        "#proceso\n",
        " \n",
        " \n",
        "volumen =(a*b*c)\n",
        "\n",
        "\n",
        "#datos de salida\n",
        "print(f\" el volumen es   :{volumen }\")"
      ],
      "metadata": {
        "id": "GFC7uSUOldFv"
      },
      "execution_count": null,
      "outputs": []
    },
    {
      "cell_type": "markdown",
      "source": [
        "Electro Puno requiere determinar el pago que debe realizar una persona por el consumo de energía eléctrica, la cual se mide en kilowatts(KW).  Realice un diagrama de flujo y pseudocódigo que represente el algoritmo que permita determinar ese pago. \n",
        "\n"
      ],
      "metadata": {
        "id": "kvtvd1AL8qHC"
      }
    },
    {
      "cell_type": "code",
      "source": [
        "#definir variable\n",
        "costo=float \n",
        "pago=float \n",
        "MCU=float\n",
        "\n",
        "#definir datos de entrada\n",
        "MCU=float(input(\"ingrese los mcu usados:\")) \n",
        "costo=float(input(\"ingrese los soles por MCU:\"))\n",
        "\n",
        "#proseso\n",
        "pago=(MCU*costo)\n",
        "\n",
        "#datos de salida\n",
        "print(f\"total a pagar:{pago} \")"
      ],
      "metadata": {
        "id": "NqvnbdXC8qUq"
      },
      "execution_count": null,
      "outputs": []
    },
    {
      "cell_type": "markdown",
      "source": [
        "\n",
        "Realice un diagrama de flujo y pseudocódigo que represente el algoritmo para determinar aproximadamente cuántos meses semanas días y horas ha vivido una persona.\n",
        "\n"
      ],
      "metadata": {
        "id": "Va8feTla9Sxg"
      }
    },
    {
      "cell_type": "code",
      "source": [
        "#definir variable\n",
        " \n",
        "meses=float\n",
        "semanas=int\n",
        "dia =int\n",
        "hora=int\n",
        "  \n",
        "\n",
        "#definir datos de entrada\n",
        "\n",
        "años=print(int(\"escribir la edad:\"))\n",
        "\n",
        "\n",
        "#proseso \n",
        "meses =años*12\n",
        "semanas = meses*4.34524\n",
        "dias= semanas *7\n",
        "horas = dias *24\n",
        "\n",
        "#datos de salida\n",
        "print(f\"La persona ha vivido :\")\n",
        "print(f\"meses :{meses} \")\n",
        "print(f\"semanas:{semanas}\")\n",
        "print(f\" dias:{dias}\")\n",
        "print(f\" horas:{horas}\")\n",
        "\n",
        "\n",
        "\n",
        "\n",
        "\n",
        "\n",
        "\n"
      ],
      "metadata": {
        "id": "gn87n68UI-5U"
      },
      "execution_count": null,
      "outputs": []
    },
    {
      "cell_type": "markdown",
      "source": [
        ""
      ],
      "metadata": {
        "id": "ekP10dWF_G-O"
      }
    },
    {
      "cell_type": "markdown",
      "source": [
        "Calcule la longitud de una circunferencia de radio conocido "
      ],
      "metadata": {
        "id": "_Lkp2eviAwxW"
      }
    },
    {
      "cell_type": "code",
      "source": [
        "#DEFINIR VARIABLE \n",
        "\n",
        "radio=float\n",
        "math :float=3.14\n",
        "\n",
        "#definir datos de entrada\n",
        "radio=float(input(\"escribir la radio:\"))\n",
        "\n",
        "\n",
        "\n",
        "\n",
        "#proseso\n",
        "longitud =(2*math*radio)\n",
        "#datos de salida\n",
        "print(f\"la longitud es :{longitud}\")\n",
        "\n",
        "\n",
        "\n",
        "\n"
      ],
      "metadata": {
        "colab": {
          "base_uri": "https://localhost:8080/"
        },
        "outputId": "abe963f5-eb58-4a05-9029-7a5f85cb1fdc",
        "id": "U-e3q0_BEINd"
      },
      "execution_count": null,
      "outputs": [
        {
          "output_type": "stream",
          "name": "stdout",
          "text": [
            "escribir la radio:10\n",
            "la longitud es :62.800000000000004\n"
          ]
        }
      ]
    },
    {
      "cell_type": "markdown",
      "source": [
        "Se requiere determinar la hipotenusa de un triángulo rectángulo ¿cómo sería el diagrama de flujo y el pseudocódigo que represente el algoritmo para obtenerla? Recuerde que por Pitágoras c^ {2} =a^ {2} +b^ {2}"
      ],
      "metadata": {
        "id": "peuxwBklkB-J"
      }
    },
    {
      "cell_type": "code",
      "source": [
        "#DEFINIR VARIABLE \n",
        "from math import sqrt\n",
        "ab=float\n",
        "bc=float\n",
        "\n",
        "#definir datos de entrada\n",
        "ab=float(input(\"escribir la logitud del vertice AB:\"))\n",
        "\n",
        "print(\"escribir un numero:\")\n",
        "bc=float(input(\"escribir la logtitud del vertice BC:\"))\n",
        "print(\"escribir un numero:\")\n",
        "\n",
        "#proseso\n",
        "hipotenusa= sqrt(ab**2+ bc**2)\n",
        "#datos de salida\n",
        "print(f\"la longitud de la hipotenusa es :{hipotenusa}\")"
      ],
      "metadata": {
        "id": "BQSPx091_NM6"
      },
      "execution_count": null,
      "outputs": []
    },
    {
      "cell_type": "markdown",
      "source": [
        "Constructoras Juliaca requiere determinar cuánto cobrar por trabajos de pintura. Considere que se cobra por m2 y realice un diagrama de flujo y pseudocódigo que represente el algoritmo que le permita ir generando presupuestos para cada cliente."
      ],
      "metadata": {
        "id": "_5VX_Y4I_eM5"
      }
    },
    {
      "cell_type": "code",
      "source": [
        "#definir variables \n",
        "m2=float\n",
        "cm2:float=2\n",
        "\n",
        "\n",
        "#datos de entrada\n",
        "m2=float(input(\"cuanto es el metro cuadrado que se desea pintar: \"))\n",
        "#proceso \n",
        "presupuesto= m2/cm2\n",
        "#datos de salida\n",
        "print(f\"el presupuesto de dicho trabajo es de :{presupuesto}\")"
      ],
      "metadata": {
        "id": "v6qmBiO__fo9"
      },
      "execution_count": null,
      "outputs": []
    },
    {
      "cell_type": "markdown",
      "source": [
        "Calcule el área de un trapecio cuyas base menor, base mayor y altura son conocidos\n",
        "\n"
      ],
      "metadata": {
        "id": "CSRyU5mbBr-e"
      }
    },
    {
      "cell_type": "code",
      "source": [
        "#DEFINIR VARABLES\n",
        "b=float\n",
        "b_a=float\n",
        "h=float\n",
        "\n",
        "#datos de entrada \n",
        "b=float(input(\"ingrese la base menor:\"))\n",
        "print(\"debe escribir un numero\")\n",
        "b_a=float(input(\"ingrese la base mayor\"))\n",
        "\n",
        "\n",
        "h=float(input(\"ingrese la altura:\"))\n",
        "print(\"debe escribir el numero:\")\n",
        "#proceso\n",
        "area= (b+b_a) / 2*h\n",
        "\n",
        "#datos de salida\n",
        "print(f\"el area es:{area}\")"
      ],
      "metadata": {
        "id": "fB_io1uZC---"
      },
      "execution_count": null,
      "outputs": []
    }
  ]
}